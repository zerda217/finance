{
 "cells": [
  {
   "cell_type": "code",
   "execution_count": 33,
   "id": "4375e46b",
   "metadata": {},
   "outputs": [],
   "source": [
    "import pandas as pd\n",
    "import numpy as np\n",
    "import matplotlib\n",
    "import matplotlib.pyplot as plt"
   ]
  },
  {
   "cell_type": "code",
   "execution_count": 16,
   "id": "e227a502",
   "metadata": {},
   "outputs": [],
   "source": [
    "# df = pd.read_csv('C:\\dev\\dataanalysis\\한국재정정보원_dataset\\2021_한국재정정보원_공공데이터\\분야별 재정지출\\보건 분야\\보건 분야 소관별 추이.CSV')\n",
    "\n",
    "\n",
    "df = pd.read_csv('C:/dev/dataanalysis/한국재정정보원_dataset/2021_한국재정정보원_공공데이터/분야별 재정지출/보건 분야/보건 분야 소관별 추이.CSV', \n",
    "                 encoding='CP949')\n"
   ]
  },
  {
   "cell_type": "code",
   "execution_count": 36,
   "id": "1e28d776",
   "metadata": {},
   "outputs": [
    {
     "name": "stdout",
     "output_type": "stream",
     "text": [
      "<class 'pandas.core.frame.DataFrame'>\n",
      "RangeIndex: 3 entries, 0 to 2\n",
      "Data columns (total 6 columns):\n",
      " #   Column        Non-Null Count  Dtype \n",
      "---  ------        --------------  ----- \n",
      " 0   연도            3 non-null      int64 \n",
      " 1   기준            3 non-null      object\n",
      " 2   보건복지부(억원)     3 non-null      int64 \n",
      " 3   식품의약품안전처(억원)  3 non-null      int64 \n",
      " 4   질병관리청(억원)     3 non-null      int64 \n",
      " 5   기획재정부(억원)     3 non-null      int64 \n",
      "dtypes: int64(5), object(1)\n",
      "memory usage: 272.0+ bytes\n"
     ]
    },
    {
     "data": {
      "text/html": [
       "<div>\n",
       "<style scoped>\n",
       "    .dataframe tbody tr th:only-of-type {\n",
       "        vertical-align: middle;\n",
       "    }\n",
       "\n",
       "    .dataframe tbody tr th {\n",
       "        vertical-align: top;\n",
       "    }\n",
       "\n",
       "    .dataframe thead th {\n",
       "        text-align: right;\n",
       "    }\n",
       "</style>\n",
       "<table border=\"1\" class=\"dataframe\">\n",
       "  <thead>\n",
       "    <tr style=\"text-align: right;\">\n",
       "      <th></th>\n",
       "      <th>연도</th>\n",
       "      <th>기준</th>\n",
       "      <th>보건복지부(억원)</th>\n",
       "      <th>식품의약품안전처(억원)</th>\n",
       "      <th>질병관리청(억원)</th>\n",
       "      <th>기획재정부(억원)</th>\n",
       "    </tr>\n",
       "  </thead>\n",
       "  <tbody>\n",
       "    <tr>\n",
       "      <th>0</th>\n",
       "      <td>2019</td>\n",
       "      <td>결산</td>\n",
       "      <td>114432</td>\n",
       "      <td>4869</td>\n",
       "      <td>0</td>\n",
       "      <td>50</td>\n",
       "    </tr>\n",
       "    <tr>\n",
       "      <th>1</th>\n",
       "      <td>2020</td>\n",
       "      <td>본예산</td>\n",
       "      <td>129650</td>\n",
       "      <td>5568</td>\n",
       "      <td>0</td>\n",
       "      <td>0</td>\n",
       "    </tr>\n",
       "    <tr>\n",
       "      <th>2</th>\n",
       "      <td>2021</td>\n",
       "      <td>본예산</td>\n",
       "      <td>137988</td>\n",
       "      <td>6086</td>\n",
       "      <td>2894</td>\n",
       "      <td>0</td>\n",
       "    </tr>\n",
       "  </tbody>\n",
       "</table>\n",
       "</div>"
      ],
      "text/plain": [
       "     연도   기준  보건복지부(억원)  식품의약품안전처(억원)  질병관리청(억원)  기획재정부(억원)\n",
       "0  2019   결산     114432          4869          0         50\n",
       "1  2020  본예산     129650          5568          0          0\n",
       "2  2021  본예산     137988          6086       2894          0"
      ]
     },
     "execution_count": 36,
     "metadata": {},
     "output_type": "execute_result"
    }
   ],
   "source": [
    "df.info()\n",
    "df"
   ]
  },
  {
   "cell_type": "code",
   "execution_count": 44,
   "id": "b64b03cb",
   "metadata": {},
   "outputs": [
    {
     "data": {
      "text/plain": [
       "<function matplotlib.pyplot.show(close=None, block=None)>"
      ]
     },
     "execution_count": 44,
     "metadata": {},
     "output_type": "execute_result"
    },
    {
     "data": {
      "image/png": "[encoded data removed]",
      "text/plain": [
       "<Figure size 432x288 with 1 Axes>"
      ]
     },
     "metadata": {
      "needs_background": "light"
     },
     "output_type": "display_data"
    }
   ],
   "source": [
    "# df.drop('기준',inplace=True, axis=1)\n",
    "df.head()\n",
    "\n",
    "plt.bar(np.arange(4), df.iloc[2])\n",
    "plt.show\n",
    "\n",
    "plt.pie(df.)"
   ]
  }
 ],
 "metadata": {
  "kernelspec": {
   "display_name": "Python 3",
   "language": "python",
   "name": "python3"
  },
  "language_info": {
   "codemirror_mode": {
    "name": "ipython",
    "version": 3
   },
   "file_extension": ".py",
   "mimetype": "text/x-python",
   "name": "python",
   "nbconvert_exporter": "python",
   "pygments_lexer": "ipython3",
   "version": "3.8.8"
  }
 },
 "nbformat": 4,
 "nbformat_minor": 5
}
