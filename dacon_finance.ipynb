{
 "cells": [
  {
   "cell_type": "code",
   "execution_count": 2,
   "id": "4375e46b",
   "metadata": {},
   "outputs": [],
   "source": [
    "import pandas as pd\n",
    "import numpy as np\n",
    "import matplotlib\n",
    "import matplotlib.pyplot as plt"
   ]
  },
  {
   "cell_type": "code",
   "execution_count": 33,
   "id": "e227a502",
   "metadata": {},
   "outputs": [
    {
     "data": {
      "text/plain": [
       "<function matplotlib.pyplot.show(close=None, block=None)>"
      ]
     },
     "execution_count": 33,
     "metadata": {},
     "output_type": "execute_result"
    },
    {
     "data": {
      "image/png": "[encoded data removed]",
      "text/plain": [
       "<Figure size 432x288 with 1 Axes>"
      ]
     },
     "metadata": {
      "needs_background": "light"
     },
     "output_type": "display_data"
    }
   ],
   "source": [
    "# 공적연금 부문 주요 프로그램별 추이\n",
    "df = pd.read_csv('C:/dev/dataanalysis/한국재정정보원_dataset/2021_한국재정정보원_공공데이터/분야별 재정지출/사회복지 분야/공적연금 부문 주요 프로그램별 추이.CSV', \n",
    "                 encoding='CP949')\n",
    "df.drop(['연도','기준'],inplace=True, axis=1)\n",
    "# df\n",
    "df2021 = df.drop([0,1,2,3,4,5],0)\n",
    "df2021\n",
    "plt.bar(np.arange(5), df2021.iloc[0])\n",
    "plt.show"
   ]
  },
  {
   "cell_type": "code",
   "execution_count": 40,
   "id": "0559b108",
   "metadata": {},
   "outputs": [
    {
     "name": "stdout",
     "output_type": "stream",
     "text": [
      "<class 'pandas.core.frame.DataFrame'>\n",
      "RangeIndex: 7 entries, 0 to 6\n",
      "Data columns (total 13 columns):\n",
      " #   Column                 Non-Null Count  Dtype\n",
      "---  ------                 --------------  -----\n",
      " 0   고용_고용안전망확충(억원)         7 non-null      int64\n",
      " 1   고용_고용창출 및 훈련(억원)       7 non-null      int64\n",
      " 2   고용_고용평등증진(억원)          7 non-null      int64\n",
      " 3   고용_장애인고용증진(억원)         7 non-null      int64\n",
      " 4   고용_고용노동행정지원(억원)        7 non-null      int64\n",
      " 5   노동_산재보험(억원)            7 non-null      int64\n",
      " 6   노동_근로조건보호 및 복지증진(억원)   7 non-null      int64\n",
      " 7   노동_산업재해예방(억원)          7 non-null      int64\n",
      " 8   노동_고용노동행정지원(억원)        7 non-null      int64\n",
      " 9   노동_노사정책(억원)            7 non-null      int64\n",
      " 10  고용노동일반_고용노동행정지원(억원)    7 non-null      int64\n",
      " 11  고용노동일반_소속책임운영기관운영(억원)  7 non-null      int64\n",
      " 12  고용노동일반_공용재산취득(억원)      7 non-null      int64\n",
      "dtypes: int64(13)\n",
      "memory usage: 856.0 bytes\n"
     ]
    },
    {
     "data": {
      "text/plain": [
       "<function matplotlib.pyplot.show(close=None, block=None)>"
      ]
     },
     "execution_count": 40,
     "metadata": {},
     "output_type": "execute_result"
    },
    {
     "data": {
      "image/png": "[encoded data removed]",
      "text/plain": [
       "<Figure size 432x288 with 1 Axes>"
      ]
     },
     "metadata": {
      "needs_background": "light"
     },
     "output_type": "display_data"
    }
   ],
   "source": [
    "# 고용, 고용일반 등 주요 프로그램별 추이\n",
    "df = pd.read_csv('C:/dev/dataanalysis/한국재정정보원_dataset/2021_한국재정정보원_공공데이터/분야별 재정지출/사회복지 분야/고용, 고용노동일반, 노동 부문 주요 프로그램별 추이.CSV', \n",
    "                 encoding='CP949')\n",
    "df.drop(['연도','기준'],inplace=True, axis=1)\n",
    "df\n",
    "df.info()\n",
    "df2021 = df.drop([0,1,2,3,4,5],0)\n",
    "plt.bar(np.arange(13), df2021.iloc[0])\n",
    "plt.show"
   ]
  },
  {
   "cell_type": "code",
   "execution_count": 42,
   "id": "1e28d776",
   "metadata": {},
   "outputs": [
    {
     "name": "stdout",
     "output_type": "stream",
     "text": [
      "<class 'pandas.core.frame.DataFrame'>\n",
      "RangeIndex: 7 entries, 0 to 6\n",
      "Data columns (total 3 columns):\n",
      " #   Column        Non-Null Count  Dtype\n",
      "---  ------        --------------  -----\n",
      " 0   기초생활보장(억원)    7 non-null      int64\n",
      " 1   기초주거생활보장(억원)  7 non-null      int64\n",
      " 2   자활서비스지원(억원)   7 non-null      int64\n",
      "dtypes: int64(3)\n",
      "memory usage: 296.0 bytes\n"
     ]
    },
    {
     "data": {
      "text/plain": [
       "<function matplotlib.pyplot.show(close=None, block=None)>"
      ]
     },
     "execution_count": 42,
     "metadata": {},
     "output_type": "execute_result"
    },
    {
     "data": {
      "image/png": "[encoded data removed]",
      "text/plain": [
       "<Figure size 432x288 with 1 Axes>"
      ]
     },
     "metadata": {
      "needs_background": "light"
     },
     "output_type": "display_data"
    }
   ],
   "source": [
    "# 기초생활보장 부문 주요 프로그램별 추이\n",
    "df = pd.read_csv('C:/dev/dataanalysis/한국재정정보원_dataset/2021_한국재정정보원_공공데이터/분야별 재정지출/사회복지 분야/기초생활보장 부문 주요 프로그램별 추이.CSV', \n",
    "                 encoding='CP949')\n",
    "df.drop(['연도','기준'],inplace=True, axis=1)\n",
    "df\n",
    "df.info()\n",
    "df2021 = df.drop([0,1,2,3,4,5],0)\n",
    "plt.bar(np.arange(3), df2021.iloc[0])\n",
    "plt.show"
   ]
  },
  {
   "cell_type": "code",
   "execution_count": 44,
   "id": "b64b03cb",
   "metadata": {
    "scrolled": true
   },
   "outputs": [
    {
     "name": "stdout",
     "output_type": "stream",
     "text": [
      "<class 'pandas.core.frame.DataFrame'>\n",
      "RangeIndex: 7 entries, 0 to 6\n",
      "Data columns (total 12 columns):\n",
      " #   Column                               Non-Null Count  Dtype\n",
      "---  ------                               --------------  -----\n",
      " 0   노인_노인생활안정(억원)                        7 non-null      int64\n",
      " 1   노인_노인의료보장(억원)                        7 non-null      int64\n",
      " 2   아동·보육_보육지원강화(억원)                     7 non-null      int64\n",
      " 3   아동·보육_저출산대응 및 인구정책지원(억원)             7 non-null      int64\n",
      " 4   아동·보육_아동보호 및 복지 강화(억원)               7 non-null      int64\n",
      " 5   아동·보육_민간보육시설지원(억원)                   7 non-null      int64\n",
      " 6   여성·가족·청소년_가족정책 및 돌봄 지원(억원)           7 non-null      int64\n",
      " 7   여성·가족·청소년_여성·아동인권보호(억원)              7 non-null      int64\n",
      " 8   여성·가족·청소년_청소년정책 및 역량강화(억원)           7 non-null      int64\n",
      " 9   여성·가족·청소년_성평등정책기반강화 및 여성경제활동지원 (억원)  7 non-null      int64\n",
      " 10  여성·가족·청소년_여성가족부행정지원(억원)              7 non-null      int64\n",
      " 11  여성·가족·청소년_여성가족청소년정책일반(억원)            7 non-null      int64\n",
      "dtypes: int64(12)\n",
      "memory usage: 800.0 bytes\n"
     ]
    },
    {
     "data": {
      "text/plain": [
       "<function matplotlib.pyplot.show(close=None, block=None)>"
      ]
     },
     "execution_count": 44,
     "metadata": {},
     "output_type": "execute_result"
    },
    {
     "data": {
      "image/png": "[encoded data removed]",
      "text/plain": [
       "<Figure size 432x288 with 1 Axes>"
      ]
     },
     "metadata": {
      "needs_background": "light"
     },
     "output_type": "display_data"
    }
   ],
   "source": [
    "#노인,아동·보육, 여성·가족·청소년 부문 주요 프로그램별\n",
    "df = pd.read_csv('C:/dev/dataanalysis/한국재정정보원_dataset/2021_한국재정정보원_공공데이터/분야별 재정지출/사회복지 분야/노인,아동·보육, 여성·가족·청소년 부문 주요 프로그램별.CSV', \n",
    "                 encoding='CP949')\n",
    "df.drop(['연도','기준'],inplace=True, axis=1)\n",
    "df\n",
    "df.info()\n",
    "df2021 = df.drop([0,1,2,3,4,5],0)\n",
    "plt.bar(np.arange(12), df2021.iloc[0])\n",
    "plt.show"
   ]
  },
  {
   "cell_type": "code",
   "execution_count": 46,
   "id": "31bcee6c",
   "metadata": {
    "scrolled": true
   },
   "outputs": [
    {
     "name": "stdout",
     "output_type": "stream",
     "text": [
      "<class 'pandas.core.frame.DataFrame'>\n",
      "RangeIndex: 7 entries, 0 to 6\n",
      "Data columns (total 5 columns):\n",
      " #   Column           Non-Null Count  Dtype\n",
      "---  ------           --------------  -----\n",
      " 0   보훈심사 및 보상(억원)    7 non-null      int64\n",
      " 1   보훈의료복지(억원)       7 non-null      int64\n",
      " 2   보훈선양(억원)         7 non-null      int64\n",
      " 3   보훈행정(억원)         7 non-null      int64\n",
      " 4   보훈예우 및 국립묘지(억원)  7 non-null      int64\n",
      "dtypes: int64(5)\n",
      "memory usage: 408.0 bytes\n"
     ]
    },
    {
     "data": {
      "text/plain": [
       "<function matplotlib.pyplot.show(close=None, block=None)>"
      ]
     },
     "execution_count": 46,
     "metadata": {},
     "output_type": "execute_result"
    },
    {
     "data": {
      "image/png": "[encoded data removed]",
      "text/plain": [
       "<Figure size 432x288 with 1 Axes>"
      ]
     },
     "metadata": {
      "needs_background": "light"
     },
     "output_type": "display_data"
    }
   ],
   "source": [
    "# 보훈 부문 주요 프로그램별 추이\n",
    "df = pd.read_csv('C:/dev/dataanalysis/한국재정정보원_dataset/2021_한국재정정보원_공공데이터/분야별 재정지출/사회복지 분야/보훈 부문 주요 프로그램별 추이.CSV', \n",
    "                 encoding='CP949')\n",
    "df.drop(['연도','기준'],inplace=True, axis=1)\n",
    "df\n",
    "df.info()\n",
    "df2021 = df.drop([0,1,2,3,4,5],0)\n",
    "plt.bar(np.arange(5), df2021.iloc[0])\n",
    "plt.show"
   ]
  },
  {
   "cell_type": "code",
   "execution_count": 49,
   "id": "4dae868f",
   "metadata": {},
   "outputs": [
    {
     "name": "stdout",
     "output_type": "stream",
     "text": [
      "<class 'pandas.core.frame.DataFrame'>\n",
      "RangeIndex: 7 entries, 0 to 6\n",
      "Data columns (total 5 columns):\n",
      " #   Column              Non-Null Count  Dtype  \n",
      "---  ------              --------------  -----  \n",
      " 0   사회복지기반조성(억원)        7 non-null      int64  \n",
      " 1   일반보건복지행정지원(억원)      7 non-null      int64  \n",
      " 2   복권기금운영(억원)          7 non-null      int64  \n",
      " 3   일반사회복지행정지원(억원)      7 non-null      float64\n",
      " 4   국민건강증진기금 기금운영비(억원)  7 non-null      int64  \n",
      "dtypes: float64(1), int64(4)\n",
      "memory usage: 408.0 bytes\n"
     ]
    },
    {
     "data": {
      "text/plain": [
       "<function matplotlib.pyplot.show(close=None, block=None)>"
      ]
     },
     "execution_count": 49,
     "metadata": {},
     "output_type": "execute_result"
    },
    {
     "data": {
      "image/png": "[encoded data removed]",
      "text/plain": [
       "<Figure size 432x288 with 1 Axes>"
      ]
     },
     "metadata": {
      "needs_background": "light"
     },
     "output_type": "display_data"
    }
   ],
   "source": [
    "# 사회복지일반 부문 주요 프로그램별 추이\n",
    "df = pd.read_csv('C:/dev/dataanalysis/한국재정정보원_dataset/2021_한국재정정보원_공공데이터/분야별 재정지출/사회복지 분야/사회복지일반 부문 주요 프로그램별 추이.CSV', \n",
    "                 encoding='CP949')\n",
    "df.drop(['연도','기준'],inplace=True, axis=1)\n",
    "df\n",
    "df.info()\n",
    "df2021 = df.drop([0,1,2,3,4,5],0)\n",
    "plt.bar(np.arange(5), df2021.iloc[0])\n",
    "plt.show"
   ]
  },
  {
   "cell_type": "code",
   "execution_count": 51,
   "id": "f046574a",
   "metadata": {},
   "outputs": [
    {
     "name": "stdout",
     "output_type": "stream",
     "text": [
      "<class 'pandas.core.frame.DataFrame'>\n",
      "RangeIndex: 7 entries, 0 to 6\n",
      "Data columns (total 5 columns):\n",
      " #   Column               Non-Null Count  Dtype\n",
      "---  ------               --------------  -----\n",
      " 0   임대주택지원(억원)           7 non-null      int64\n",
      " 1   구입·전세자금(억원)          7 non-null      int64\n",
      " 2   임대주택지원(억원).1         7 non-null      int64\n",
      " 3   주택시장안정 및 주거복지향상(억원)  7 non-null      int64\n",
      " 4   도시재생활성화(억원)          7 non-null      int64\n",
      "dtypes: int64(5)\n",
      "memory usage: 408.0 bytes\n"
     ]
    },
    {
     "data": {
      "text/plain": [
       "<function matplotlib.pyplot.show(close=None, block=None)>"
      ]
     },
     "execution_count": 51,
     "metadata": {},
     "output_type": "execute_result"
    },
    {
     "data": {
      "image/png": "[encoded data removed]",
      "text/plain": [
       "<Figure size 432x288 with 1 Axes>"
      ]
     },
     "metadata": {
      "needs_background": "light"
     },
     "output_type": "display_data"
    }
   ],
   "source": [
    "# 주택 부문 주요 프로그램별 추이\n",
    "df = pd.read_csv('C:/dev/dataanalysis/한국재정정보원_dataset/2021_한국재정정보원_공공데이터/분야별 재정지출/사회복지 분야/주택 부문 주요 프로그램별 추이.CSV', \n",
    "                 encoding='CP949')\n",
    "df.drop(['연도','기준'],inplace=True, axis=1)\n",
    "df\n",
    "df.info()\n",
    "df2021 = df.drop([0,1,2,3,4,5],0)\n",
    "plt.bar(np.arange(5), df2021.iloc[0])\n",
    "plt.show"
   ]
  },
  {
   "cell_type": "code",
   "execution_count": 53,
   "id": "738f5654",
   "metadata": {},
   "outputs": [
    {
     "name": "stdout",
     "output_type": "stream",
     "text": [
      "<class 'pandas.core.frame.DataFrame'>\n",
      "RangeIndex: 7 entries, 0 to 6\n",
      "Data columns (total 5 columns):\n",
      " #   Column               Non-Null Count  Dtype\n",
      "---  ------               --------------  -----\n",
      " 0   장애인생활안정 및 재활 지원(억원)  7 non-null      int64\n",
      " 1   복권기금운영(억원)           7 non-null      int64\n",
      " 2   일자리지원(억원)            7 non-null      int64\n",
      " 3   국립재활원(억원)            7 non-null      int64\n",
      " 4   노숙인의사상자지원(억원)        7 non-null      int64\n",
      "dtypes: int64(5)\n",
      "memory usage: 408.0 bytes\n"
     ]
    },
    {
     "data": {
      "text/plain": [
       "<function matplotlib.pyplot.show(close=None, block=None)>"
      ]
     },
     "execution_count": 53,
     "metadata": {},
     "output_type": "execute_result"
    },
    {
     "data": {
      "image/png": "[encoded data removed]",
      "text/plain": [
       "<Figure size 432x288 with 1 Axes>"
      ]
     },
     "metadata": {
      "needs_background": "light"
     },
     "output_type": "display_data"
    }
   ],
   "source": [
    "# 취약계층지원 부문 주요 프로그램별 추이\n",
    "df = pd.read_csv('C:/dev/dataanalysis/한국재정정보원_dataset/2021_한국재정정보원_공공데이터/분야별 재정지출/사회복지 분야/취약계층지원 부문 주요 프로그램별 추이.CSV', \n",
    "                 encoding='CP949')\n",
    "df.drop(['연도','기준'],inplace=True, axis=1)\n",
    "df\n",
    "df.info()\n",
    "df2021 = df.drop([0,1,2,3,4,5],0)\n",
    "plt.bar(np.arange(5), df2021.iloc[0])\n",
    "plt.show"
   ]
  }
 ],
 "metadata": {
  "kernelspec": {
   "display_name": "Python 3",
   "language": "python",
   "name": "python3"
  },
  "language_info": {
   "codemirror_mode": {
    "name": "ipython",
    "version": 3
   },
   "file_extension": ".py",
   "mimetype": "text/x-python",
   "name": "python",
   "nbconvert_exporter": "python",
   "pygments_lexer": "ipython3",
   "version": "3.8.8"
  }
 },
 "nbformat": 4,
 "nbformat_minor": 5
}
